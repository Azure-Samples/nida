{
 "cells": [
  {
   "cell_type": "code",
   "execution_count": 3,
   "metadata": {},
   "outputs": [],
   "source": [
    "%load_ext autoreload\n",
    "%autoreload 2\n",
    "\n",
    "\n",
    "import os\n",
    "import pandas as pd\n",
    "from dotenv import load_dotenv\n",
    "import time\n",
    "\n",
    "load_dotenv()\n",
    "\n",
    "oai_resource = \"aoia\""
   ]
  },
  {
   "cell_type": "code",
   "execution_count": 6,
   "metadata": {},
   "outputs": [],
   "source": [
    "# Define your input and output paths\n",
    "excel_file = './data/sales_call_quality_evaluation.xlsx'\n",
    "sheet_name = 'Parameters'\n",
    "transcripts_folder = './data/transcripts_whisper_o4'\n",
    "output_csv = './data/eval.csv'\n"
   ]
  },
  {
   "cell_type": "markdown",
   "metadata": {},
   "source": []
  },
  {
   "cell_type": "code",
   "execution_count": null,
   "metadata": {},
   "outputs": [],
   "source": [
    "# Read the Excel sheet\n",
    "df = pd.read_excel(excel_file, sheet_name=sheet_name)\n",
    "\n",
    "# Prepare a list to hold the rows for the output\n",
    "output_rows = []\n",
    "\n",
    "# Iterate over rows in the Excel DataFrame\n",
    "for index, row in df.iterrows():\n",
    "    call_id = str(row['Call ID'])  # Make sure it's a string for filename matching\n",
    "    \n",
    "    # Build the transcript's filepath\n",
    "    transcript_path = os.path.join(transcripts_folder, f\"{call_id}.txt\")\n",
    "    \n",
    "    # Read the transcript if it exists, else use an empty string\n",
    "    if os.path.exists(transcript_path):\n",
    "        with open(transcript_path, 'r', encoding='utf-8') as f:\n",
    "            call_text = f.read()\n",
    "    else:\n",
    "        call_text = \"\"\n",
    "        continue\n",
    "    \n",
    "    # Build the row dictionary for the CSV\n",
    "    output_rows.append({\n",
    "        'ID': call_id,\n",
    "        'Call': call_text,\n",
    "        'paramater 1': row['Parameter 1'],\n",
    "        'paramater 2': row['Parameter 2'],\n",
    "        'paramater 3': row['Parameter 3']\n",
    "    })\n",
    "\n",
    "# Convert to a DataFrame and write out to CSV\n",
    "output_df = pd.DataFrame(output_rows, \n",
    "                         columns=['ID', 'Call', 'paramater 1', 'paramater 2', 'paramater 3'])\n",
    "output_df.to_csv(output_csv, index=False)\n",
    "\n",
    "print(f\"CSV file '{output_csv}' has been created.\")"
   ]
  }
 ],
 "metadata": {
  "kernelspec": {
   "display_name": "oor_calls",
   "language": "python",
   "name": "python3"
  },
  "language_info": {
   "codemirror_mode": {
    "name": "ipython",
    "version": 3
   },
   "file_extension": ".py",
   "mimetype": "text/x-python",
   "name": "python",
   "nbconvert_exporter": "python",
   "pygments_lexer": "ipython3",
   "version": "3.12.8"
  }
 },
 "nbformat": 4,
 "nbformat_minor": 2
}
